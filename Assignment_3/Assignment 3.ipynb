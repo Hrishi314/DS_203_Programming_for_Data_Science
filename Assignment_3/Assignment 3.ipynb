{
 "cells": [
  {
   "cell_type": "code",
   "execution_count": 10,
   "id": "initial_id",
   "metadata": {
    "collapsed": true,
    "ExecuteTime": {
     "end_time": "2023-08-23T10:53:42.986731800Z",
     "start_time": "2023-08-23T10:53:42.956045100Z"
    }
   },
   "outputs": [],
   "source": [
    "import numpy as np\n",
    "import scipy.stats"
   ]
  },
  {
   "cell_type": "code",
   "execution_count": 20,
   "outputs": [],
   "source": [
    "import matplotlib.pyplot as plt"
   ],
   "metadata": {
    "collapsed": false,
    "ExecuteTime": {
     "end_time": "2023-08-23T10:56:38.954956400Z",
     "start_time": "2023-08-23T10:56:38.905923500Z"
    }
   },
   "id": "c60e19ebbed95238"
  },
  {
   "cell_type": "code",
   "execution_count": 26,
   "outputs": [],
   "source": [
    "data=np.genfromtxt('linear-data-set-for-regression.csv' ,delimiter=',')"
   ],
   "metadata": {
    "collapsed": false,
    "ExecuteTime": {
     "end_time": "2023-08-23T10:57:46.636931Z",
     "start_time": "2023-08-23T10:57:46.605524700Z"
    }
   },
   "id": "83374abdae9a7adc"
  },
  {
   "cell_type": "code",
   "execution_count": 31,
   "outputs": [],
   "source": [
    "x0=data[:,1]\n",
    "y0=data[:,0]\n",
    "x= x0[:-1] \n",
    "y= y0[:-1] "
   ],
   "metadata": {
    "collapsed": false,
    "ExecuteTime": {
     "end_time": "2023-08-23T11:00:02.088204400Z",
     "start_time": "2023-08-23T11:00:02.054820100Z"
    }
   },
   "id": "3304075fc816c309"
  },
  {
   "cell_type": "code",
   "execution_count": 32,
   "outputs": [
    {
     "data": {
      "text/plain": "<matplotlib.collections.PathCollection at 0x14c95726b60>"
     },
     "execution_count": 32,
     "metadata": {},
     "output_type": "execute_result"
    },
    {
     "data": {
      "text/plain": "<Figure size 640x480 with 1 Axes>",
      "image/png": "[encoded data removed]"
     },
     "metadata": {},
     "output_type": "display_data"
    }
   ],
   "source": [
    "plt.scatter(x,y,marker='o',c='green',label='Linear Data')"
   ],
   "metadata": {
    "collapsed": false,
    "ExecuteTime": {
     "end_time": "2023-08-23T11:00:03.005323500Z",
     "start_time": "2023-08-23T11:00:02.788786100Z"
    }
   },
   "id": "370e9acc2d1d6cc8"
  },
  {
   "cell_type": "code",
   "execution_count": 33,
   "outputs": [
    {
     "name": "stdout",
     "output_type": "stream",
     "text": [
      "[0.02564103 0.05128205 0.07692308 0.1025641  0.12820513 0.15384615\n",
      " 0.17948718 0.20512821 0.23076923 0.25641026 0.28205128 0.30769231\n",
      " 0.33333333 0.35897436 0.38461538 0.41025641 0.43589744 0.46153846\n",
      " 0.48717949 0.51282051 0.53846154 0.56410256 0.58974359 0.61538461\n",
      " 0.64102564 0.66666667 0.69230769 0.71794872 0.74358974 0.76923077\n",
      " 0.7948718  0.82051282 0.84615385 0.87179487 0.8974359  0.92307692\n",
      " 0.94871795 0.97435897 1.         1.02564103 1.05128205 1.07692308\n",
      " 1.1025641  1.12820513 1.15384615 1.17948718 1.20512821 1.23076923\n",
      " 1.25641026 1.28205128 1.30769231 1.33333333 1.35897436 1.38461539\n",
      " 1.41025641 1.43589744 1.46153846 1.48717949 1.51282051 1.53846154\n",
      " 1.56410256 1.58974359 1.61538461 1.64102564 1.66666667 1.69230769\n",
      " 1.71794872 1.74358974 1.76923077 1.79487179 1.82051282 1.84615385\n",
      " 1.87179487 1.8974359  1.92307692 1.94871795 1.97435897 2.\n",
      " 2.02564103 2.05128205 2.07692308 2.1025641  2.12820513 2.15384615\n",
      " 2.17948718 2.2051282  2.23076923 2.25641026 2.28205128 2.30769231\n",
      " 2.33333333 2.35897436 2.38461539 2.41025641 2.43589744 2.46153846\n",
      " 2.48717949 2.51282051 2.53846154] [0.97491629 0.8799024  0.60259774 0.24708782 1.11637348 0.65306042\n",
      " 0.79401619 0.95640499 0.46277187 0.51889923 0.50315032 0.83801445\n",
      " 0.44545653 1.38512875 1.40570837 0.53738393 1.06174709 1.5566868\n",
      " 1.04135657 1.44560911 1.30681257 0.95000481 1.07455259 0.97434016\n",
      " 1.19370358 0.97941216 1.00370854 1.31604894 1.5724815  1.17174728\n",
      " 1.46714903 1.64377495 1.13845302 2.05991159 1.65027631 1.52620682\n",
      " 1.55432429 2.00784692 2.09549805 1.44728778 1.31984868 1.92415384\n",
      " 1.40346032 1.75623679 1.42134939 1.92544735 2.1162841  2.45897592\n",
      " 2.01000306 2.39463723 1.9284974  2.02367014 2.62928541 1.73758068\n",
      " 1.74555771 2.28391396 2.36659366 2.12671223 1.98688643 2.67983285\n",
      " 2.29645117 2.38265152 2.39873908 2.34388981 2.5885905  2.78800987\n",
      " 2.187502   2.20413815 2.81907072 2.44132501 3.11874034 2.7167714\n",
      " 2.49117    2.80349381 3.00184959 2.78405962 2.52105309 3.29344999\n",
      " 3.1038617  2.50315978 2.50471486 2.91664085 3.43376213 2.73327345\n",
      " 3.0105854  3.36256909 3.186022   3.27703689 2.78532394 3.56589468\n",
      " 3.35659312 3.41536259 2.8478888  3.59766194 3.5390417  3.83090667\n",
      " 3.2081685  3.23695562 3.40154786]\n"
     ]
    }
   ],
   "source": [
    "print(x,y)\n",
    "\n",
    "avg_x=np.average(x)\n",
    "avg_y=np.average(y)\n",
    "x_sq=x*x\n",
    "y_sq=np.square(y)\n",
    "x_y=y*x\n",
    "avg_x_y=np.average(x_y)\n",
    "x_sq_avg=np.average(x_sq)\n",
    "\n",
    "avg_y_sq=np.average(y_sq)\n",
    "avg_x_sq=avg_x*avg_x\n",
    "avg_x_y=np.average(x_y)"
   ],
   "metadata": {
    "collapsed": false,
    "ExecuteTime": {
     "end_time": "2023-08-23T11:00:05.171487Z",
     "start_time": "2023-08-23T11:00:05.154841800Z"
    }
   },
   "id": "bfb835e141599343"
  },
  {
   "cell_type": "code",
   "execution_count": 34,
   "outputs": [
    {
     "name": "stdout",
     "output_type": "stream",
     "text": [
      "1.282051282050505 2.0181481583232324 1.6436554898073434 4.8921849784984035\n",
      "1.282051282050505\n"
     ]
    }
   ],
   "source": [
    "a=((avg_x_y-avg_x*avg_y)/(x_sq_avg-avg_x**2))\n",
    "\n",
    "print(avg_x,avg_y,avg_x_sq,avg_y_sq)\n",
    "new=np.average(x)\n",
    "print(new)"
   ],
   "metadata": {
    "collapsed": false,
    "ExecuteTime": {
     "end_time": "2023-08-23T11:00:18.704977700Z",
     "start_time": "2023-08-23T11:00:18.688748600Z"
    }
   },
   "id": "df3b8083c4f75917"
  },
  {
   "cell_type": "code",
   "execution_count": 35,
   "outputs": [
    {
     "name": "stdout",
     "output_type": "stream",
     "text": [
      "1.1719511804459168\n"
     ]
    }
   ],
   "source": [
    "print(a)"
   ],
   "metadata": {
    "collapsed": false,
    "ExecuteTime": {
     "end_time": "2023-08-23T11:00:33.705609500Z",
     "start_time": "2023-08-23T11:00:33.663090600Z"
    }
   },
   "id": "36c946d5005fddcb"
  },
  {
   "cell_type": "code",
   "execution_count": 36,
   "outputs": [],
   "source": [
    "b=((avg_y*x_sq_avg-avg_x*avg_x_y)/(x_sq_avg-avg_x**2))"
   ],
   "metadata": {
    "collapsed": false,
    "ExecuteTime": {
     "end_time": "2023-08-23T11:00:34.034011100Z",
     "start_time": "2023-08-23T11:00:33.988491200Z"
    }
   },
   "id": "686cd144b4cb8d5f"
  },
  {
   "cell_type": "code",
   "execution_count": 37,
   "outputs": [
    {
     "name": "stdout",
     "output_type": "stream",
     "text": [
      "0.5156466449319416\n"
     ]
    }
   ],
   "source": [
    "print(b)"
   ],
   "metadata": {
    "collapsed": false,
    "ExecuteTime": {
     "end_time": "2023-08-23T11:01:20.212403Z",
     "start_time": "2023-08-23T11:01:20.189018900Z"
    }
   },
   "id": "47416fffcd48fe2f"
  },
  {
   "cell_type": "code",
   "execution_count": 39,
   "outputs": [],
   "source": [
    "y_predicted=np.zeros(99)"
   ],
   "metadata": {
    "collapsed": false,
    "ExecuteTime": {
     "end_time": "2023-08-23T11:01:47.571485700Z",
     "start_time": "2023-08-23T11:01:47.538663700Z"
    }
   },
   "id": "8e86161b5b7d81b2"
  },
  {
   "cell_type": "code",
   "execution_count": 40,
   "outputs": [],
   "source": [
    "i=0\n",
    "while i<99:\n",
    "    y_predicted[i]=x[i]*a+b\n",
    "    i=i+1\n",
    "    "
   ],
   "metadata": {
    "collapsed": false,
    "ExecuteTime": {
     "end_time": "2023-08-23T11:01:53.404981100Z",
     "start_time": "2023-08-23T11:01:53.372081400Z"
    }
   },
   "id": "b6d68542c02ea495"
  },
  {
   "cell_type": "code",
   "execution_count": 41,
   "outputs": [
    {
     "name": "stdout",
     "output_type": "stream",
     "text": [
      "[0.54569668 0.57574671 0.60579674 0.63584677 0.6658968  0.69594683\n",
      " 0.72599686 0.75604689 0.78609692 0.81614695 0.84619698 0.87624701\n",
      " 0.90629704 0.93634707 0.9663971  0.99644713 1.02649716 1.05654719\n",
      " 1.08659722 1.11664725 1.14669728 1.17674731 1.20679734 1.23684737\n",
      " 1.2668974  1.29694743 1.32699746 1.35704749 1.38709752 1.41714755\n",
      " 1.44719758 1.47724761 1.50729764 1.53734767 1.5673977  1.59744773\n",
      " 1.62749777 1.65754779 1.68759783 1.71764786 1.74769789 1.77774792\n",
      " 1.80779795 1.83784798 1.86789801 1.89794804 1.92799807 1.9580481\n",
      " 1.98809813 2.01814816 2.04819819 2.07824822 2.10829825 2.13834828\n",
      " 2.16839831 2.19844834 2.22849837 2.2585484  2.28859843 2.31864846\n",
      " 2.34869849 2.37874852 2.40879855 2.43884858 2.46889861 2.49894864\n",
      " 2.52899867 2.5590487  2.58909873 2.61914876 2.64919879 2.67924882\n",
      " 2.70929885 2.73934888 2.76939891 2.79944895 2.82949898 2.85954901\n",
      " 2.88959904 2.91964907 2.9496991  2.97974913 3.00979916 3.03984919\n",
      " 3.06989922 3.09994925 3.12999928 3.16004931 3.19009934 3.22014937\n",
      " 3.2501994  3.28024943 3.31029946 3.34034949 3.37039952 3.40044955\n",
      " 3.43049958 3.46054961 3.49059964]\n"
     ]
    }
   ],
   "source": [
    "print(y_predicted)"
   ],
   "metadata": {
    "collapsed": false,
    "ExecuteTime": {
     "end_time": "2023-08-23T11:01:55.586861500Z",
     "start_time": "2023-08-23T11:01:55.521758Z"
    }
   },
   "id": "af0f76b0f7e272b"
  },
  {
   "cell_type": "code",
   "execution_count": 42,
   "outputs": [
    {
     "name": "stdout",
     "output_type": "stream",
     "text": [
      "2.018148158323232\n"
     ]
    }
   ],
   "source": [
    "\n",
    "avg_y_predicted=np.average(y_predicted)\n",
    "print(avg_y_predicted)"
   ],
   "metadata": {
    "collapsed": false,
    "ExecuteTime": {
     "end_time": "2023-08-23T11:02:11.771716100Z",
     "start_time": "2023-08-23T11:02:11.738331400Z"
    }
   },
   "id": "3ec93244b54fc111"
  },
  {
   "cell_type": "code",
   "execution_count": 43,
   "outputs": [],
   "source": [
    "i=0\n",
    "SSR_arr=0\n",
    "SST_arr=0\n",
    "SSE_arr=0\n",
    "while i<99:\n",
    "    SSR_arr=(y_predicted[i]-avg_y)**2+SSR_arr\n",
    "    SST_arr=(y[i]-avg_y)**2+SST_arr\n",
    "    SSE_arr=SSE_arr+(y[i]-y_predicted[i])**2\n",
    "    i=i+1"
   ],
   "metadata": {
    "collapsed": false,
    "ExecuteTime": {
     "end_time": "2023-08-23T11:02:23.638298700Z",
     "start_time": "2023-08-23T11:02:23.605591400Z"
    }
   },
   "id": "2df7c8f5142d3e18"
  },
  {
   "cell_type": "code",
   "execution_count": 46,
   "outputs": [],
   "source": [
    "SSE=np.sum(SSE_arr)\n",
    "SSR=np.sum(SSR_arr)\n",
    "SST=np.sum(SST_arr)\n",
    "R_sq=SSR/SST"
   ],
   "metadata": {
    "collapsed": false,
    "ExecuteTime": {
     "end_time": "2023-08-23T11:02:52.288709100Z",
     "start_time": "2023-08-23T11:02:52.258282900Z"
    }
   },
   "id": "a8af491f57808324"
  },
  {
   "cell_type": "code",
   "execution_count": 47,
   "outputs": [
    {
     "name": "stdout",
     "output_type": "stream",
     "text": [
      "8.099136767608574 73.00789919833157 81.10703596593999\n",
      "0.9001426119059565\n",
      "1.000000000000002\n"
     ]
    }
   ],
   "source": [
    "print(SSE,SSR,SST)\n",
    "print(R_sq)\n",
    "print((SSR+SSE)/SST)"
   ],
   "metadata": {
    "collapsed": false,
    "ExecuteTime": {
     "end_time": "2023-08-23T11:02:52.772083100Z",
     "start_time": "2023-08-23T11:02:52.721480300Z"
    }
   },
   "id": "293f238411720813"
  },
  {
   "cell_type": "code",
   "execution_count": 48,
   "outputs": [],
   "source": [
    "error=0\n",
    "j=0\n",
    "while j<99:\n",
    "    error=error+y[j]-y_predicted[j]\n",
    "    j+=1"
   ],
   "metadata": {
    "collapsed": false,
    "ExecuteTime": {
     "end_time": "2023-08-23T11:03:28.555016100Z",
     "start_time": "2023-08-23T11:03:28.521985400Z"
    }
   },
   "id": "326c7cf183f2c20a"
  },
  {
   "cell_type": "code",
   "execution_count": 49,
   "outputs": [],
   "source": [
    "errors=np.zeros(99)\n",
    "k=0\n",
    "while k<99:\n",
    "    errors[k]=y[k]-y_predicted[k]\n",
    "    k+=1"
   ],
   "metadata": {
    "collapsed": false,
    "ExecuteTime": {
     "end_time": "2023-08-23T11:03:45.905412300Z",
     "start_time": "2023-08-23T11:03:45.858272500Z"
    }
   },
   "id": "1c4f7ec7c7449b2d"
  },
  {
   "cell_type": "code",
   "execution_count": 50,
   "outputs": [
    {
     "name": "stdout",
     "output_type": "stream",
     "text": [
      "0.00015673606627631648\n"
     ]
    }
   ],
   "source": [
    "\n",
    "from scipy.stats import normaltest\n",
    "Statistics,pvalue=normaltest(errors)\n",
    "print(pvalue)\n"
   ],
   "metadata": {
    "collapsed": false,
    "ExecuteTime": {
     "end_time": "2023-08-23T11:03:49.188972900Z",
     "start_time": "2023-08-23T11:03:49.154158500Z"
    }
   },
   "id": "bd16d5e589380b3a"
  },
  {
   "cell_type": "code",
   "execution_count": 53,
   "outputs": [],
   "source": [
    "metrics_text = f\"\"\"\n",
    "Metrics Summary\n",
    "----------------\n",
    "a:{a}\n",
    "b:{b}\n",
    "R_sq:{R_sq}\n",
    "SSE: {SSE}\n",
    "SSR: {SSR}\n",
    "SST: {SST}\n",
    "R-squared: {R_sq}\n",
    "p-Value:{pvalue}\n",
    "\"\"\""
   ],
   "metadata": {
    "collapsed": false,
    "ExecuteTime": {
     "end_time": "2023-08-23T11:04:43.005365400Z",
     "start_time": "2023-08-23T11:04:42.971861900Z"
    }
   },
   "id": "785225395df82163"
  },
  {
   "cell_type": "code",
   "execution_count": 55,
   "outputs": [],
   "source": [
    "with open('metrics.txt','w')as file:\n",
    "    file.write(metrics_text)"
   ],
   "metadata": {
    "collapsed": false,
    "ExecuteTime": {
     "end_time": "2023-08-23T11:05:04.672299200Z",
     "start_time": "2023-08-23T11:05:04.655734Z"
    }
   },
   "id": "48aa7ead2c8e4df2"
  },
  {
   "cell_type": "code",
   "execution_count": 56,
   "outputs": [],
   "source": [
    "from scipy.stats import normaltest"
   ],
   "metadata": {
    "collapsed": false,
    "ExecuteTime": {
     "end_time": "2023-08-23T11:07:38.305198100Z",
     "start_time": "2023-08-23T11:07:38.227336200Z"
    }
   },
   "id": "7f8af931296e95fe"
  },
  {
   "cell_type": "code",
   "execution_count": 58,
   "outputs": [
    {
     "data": {
      "text/plain": "<Figure size 800x800 with 2 Axes>",
      "image/png": "[encoded data removed]"
     },
     "metadata": {},
     "output_type": "display_data"
    }
   ],
   "source": [
    "fig, (ax1, ax2) = plt.subplots(2, 1, sharex=True, figsize=(8, 8))\n",
    "ax1.scatter(x, y, label='Raw Data')\n",
    "ax1.scatter(x, y_predicted, label='Predicted')\n",
    "ax1.set_ylabel('Y Values')\n",
    "\n",
    "\n",
    "ax1.legend()\n",
    "ax2.plot(x, errors, color='red', label='Errors')\n",
    "ax2.axhline(y=0, color='black', linestyle='--', label='Zero Error')\n",
    "ax2.set_xlabel('X Values')\n",
    "ax2.set_ylabel('Errors')\n",
    "ax2.legend()\n",
    "\n",
    "plt.tight_layout()\n",
    "\n",
    "plt.show()"
   ],
   "metadata": {
    "collapsed": false,
    "ExecuteTime": {
     "end_time": "2023-08-23T11:09:22.525400500Z",
     "start_time": "2023-08-23T11:09:21.780477100Z"
    }
   },
   "id": "424ecae69f1c1b8b"
  },
  {
   "cell_type": "code",
   "execution_count": 60,
   "outputs": [
    {
     "name": "stdout",
     "output_type": "stream",
     "text": [
      "81.10703596593999 81.10703596594014\n"
     ]
    }
   ],
   "source": [
    "#The p-value of the above Data is way less than 0.05 and thus we can easily confirm that the given data set follows Normal Distribution\n",
    "print(SST,SSR+SSE)\n",
    "#The values of SSR and SSE when added up gives SST "
   ],
   "metadata": {
    "collapsed": false,
    "ExecuteTime": {
     "end_time": "2023-08-23T11:12:41.939318800Z",
     "start_time": "2023-08-23T11:12:41.872427900Z"
    }
   },
   "id": "1eddd8d25cf00929"
  },
  {
   "cell_type": "markdown",
   "source": [
    "![Metrics](Metrics.png)"
   ],
   "metadata": {
    "collapsed": false
   },
   "id": "38a167adb40da5d3"
  },
  {
   "cell_type": "code",
   "execution_count": null,
   "outputs": [],
   "source": [],
   "metadata": {
    "collapsed": false
   },
   "id": "e38ab10f0276409f"
  }
 ],
 "metadata": {
  "kernelspec": {
   "display_name": "Python 3",
   "language": "python",
   "name": "python3"
  },
  "language_info": {
   "codemirror_mode": {
    "name": "ipython",
    "version": 2
   },
   "file_extension": ".py",
   "mimetype": "text/x-python",
   "name": "python",
   "nbconvert_exporter": "python",
   "pygments_lexer": "ipython2",
   "version": "2.7.6"
  }
 },
 "nbformat": 4,
 "nbformat_minor": 5
}
